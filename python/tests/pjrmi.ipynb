{
 "cells": [
  {
   "cell_type": "markdown",
   "metadata": {},
   "source": [
    "# PJRmi\n",
    "\n",
    "## Overview\n",
    "\n",
    "PJRmi is an API for performing Remote Method Invocation (RMI, aka RPC) in a Java process from a Python one, and vice versa. The principle it works by is to create shim objects in Python which the user will transparently treat as they would most Python objects, but which actually cause things to happen inside the Java process.\n",
    "\n",
    "There are three main modes of operation:\n",
    "  1. A Java child process spawned from a Python parent.\n",
    "  1. A Java process which runs a PJRmi server, which Python clients may connect to.\n",
    "  1. An in-process JVM, created inside the Python process.\n",
    "\n",
    "In the common server use-case, in order to provide a connection, a user must instantiate a PJRmi thread in their Java process. This can then register a service with our internal systems which the Python client can connect to. It's also possible to create a server instance which listens on a secured socket."
   ]
  },
  {
   "cell_type": "markdown",
   "metadata": {},
   "source": [
    "## These examples...\n",
    "\n",
    "We'll be using the parent/child model in the examples below but pretty much everything you can do in one mode you can do in the other.\n",
    "\n",
    "When in the Python client, there are two ways which one can get a handle on a Java object instance. You can either construct an object directly from a class, or you can get a handle on an existing object, provided by the PJRmi instance. The former case is just like creating a new Python object, and is something which we'll see a lot of below. The latter case is handled by the PJRmi instance in the Java process being an instance of a subclass of the general PJRmi class, but with an override for the the `getObjectInstance()` method; this only really makes sense when you have an explicit PJRmi server in a Java process.\n",
    "\n",
    "PJRmi does everything by reflection so, aside from instantiating the PJRmi object in the Java process, you don't need any other boilerplate code."
   ]
  },
  {
   "cell_type": "markdown",
   "metadata": {},
   "source": [
    "## Let's see it in action!\n",
    "\n",
    "First we'll import the Python module and get a PJRmi instance."
   ]
  },
  {
   "cell_type": "code",
   "execution_count": null,
   "metadata": {
    "tags": [
     "pyflyby-cell"
    ]
   },
   "outputs": [],
   "source": [
    "# What we'll need for this\n",
    "import numpy\n",
    "import os\n",
    "import pjrmi\n",
    "import time\n",
    "\n",
    "# Get a new instance. \n",
    "#\n",
    "# Here the application_args are just to allow the server to have\n",
    "# multiple threads. This is only really needed if you intend to\n",
    "# use callbacks, which we will in our examples later below.\n",
    "#\n",
    "# We also pipe the stdout and stderr of the Java process to \n",
    "# /dev/null by means of setting the filehandles to None.\n",
    "c = pjrmi.connect_to_child_jvm(stdout=None,\n",
    "                               stderr=None,\n",
    "                               application_args=('num_workers=2',))"
   ]
  },
  {
   "cell_type": "markdown",
   "metadata": {},
   "source": [
    "Right, we now have our instance. The first thing we'll want to do is to create some objects which we can play about with. We'll also use this as an example of the way that \"compatible\" types can flow between the two languages."
   ]
  },
  {
   "cell_type": "code",
   "execution_count": null,
   "metadata": {
    "tags": []
   },
   "outputs": [],
   "source": [
    "ArrayList = c.class_for_name('java.util.ArrayList')\n",
    "HashMap   = c.class_for_name('java.util.HashMap')"
   ]
  },
  {
   "cell_type": "markdown",
   "metadata": {},
   "source": [
    "What did we get?"
   ]
  },
  {
   "cell_type": "code",
   "execution_count": null,
   "metadata": {
    "tags": []
   },
   "outputs": [],
   "source": [
    "ArrayList"
   ]
  },
  {
   "cell_type": "code",
   "execution_count": null,
   "metadata": {
    "tags": []
   },
   "outputs": [],
   "source": [
    "HashMap"
   ]
  },
  {
   "cell_type": "markdown",
   "metadata": {},
   "source": [
    "These are Python classes which are going to represent the Java ones. When you create instances of them you will actually be creating handles on the actual Java instances.\n",
    "\n",
    "We can create them empty, or we can give them something to copy. Here's where we get to see the two languages flowing into each other, at the type level."
   ]
  },
  {
   "cell_type": "code",
   "execution_count": null,
   "metadata": {
    "tags": []
   },
   "outputs": [],
   "source": [
    "list1 = ArrayList()\n",
    "list2 = ArrayList([3,1,4,1,5,9,2,6])\n",
    "list3 = list(list2)\n",
    "print(str(list1) + \" \" + str(list2) + \" \" + str(list3))"
   ]
  },
  {
   "cell_type": "markdown",
   "metadata": {},
   "source": [
    "Similarly for the Map:"
   ]
  },
  {
   "cell_type": "code",
   "execution_count": null,
   "metadata": {
    "tags": []
   },
   "outputs": [],
   "source": [
    "map1 = HashMap()\n",
    "map2 = HashMap({1:2, 3:4, 5:6})\n",
    "map3 = dict(map2.entrySet())\n",
    "print(str(map1) + \" \" + str(map2) + \" \" + str(map3))"
   ]
  },
  {
   "cell_type": "markdown",
   "metadata": {},
   "source": [
    "You'll see the subtlety here that the `dict` needs to take the result of `entrySet()` since a Map isn't really a `dict`, however `entrySet()` yields an interable of `Map.Entry` objects which are interpretable as key-value pairs. These are then used to instantiate a `dict` in the same way that any iterable of `2-tuple`s are.\n",
    "\n",
    "These classes have the sugar which you would expect to have in Python. Above you can see that `str()` works as expected on them (calling their `toString()` methods). Similarly, they have the general Python syntax."
   ]
  },
  {
   "cell_type": "code",
   "execution_count": null,
   "metadata": {
    "tags": []
   },
   "outputs": [],
   "source": [
    "(map2[1], list2[4])"
   ]
  },
  {
   "cell_type": "markdown",
   "metadata": {},
   "source": [
    "## Types and how they differ between Java and Python\n",
    "\n",
    "Python and Java have two different type systems. They are _fairly_ similar at a high level but there are some important things to be aware of:\n",
    "  1. Python only has one type of native floating point value, and one native integer one.\n",
    "  1. Java allows method overloading but Python, since there may only be one method per name, does not.\n",
    "  1. Java has both object and primitive types for things like `int`s and `float`s. Python just has objects.\n",
    "  1. Python has `numpy` which has a more specific type system. This can be used to avoid some typing ambiguities.\n",
    "  \n",
    "Before we go any further let's get our ducks in a row by \"importing\" the bits which we need. We can get the Java classes using `class_for_name` but there's also a sugar method for this, which you'll see later on (spoilers!)."
   ]
  },
  {
   "cell_type": "code",
   "execution_count": null,
   "metadata": {
    "tags": []
   },
   "outputs": [],
   "source": [
    "Byte    = c.class_for_name('java.lang.Byte')\n",
    "Integer = c.class_for_name('java.lang.Integer')\n",
    "Double  = c.class_for_name('java.lang.Double')\n",
    "String  = c.class_for_name('java.lang.String')\n",
    "System  = c.class_for_name('java.lang.System')\n",
    "Thread  = c.class_for_name('java.lang.Thread')\n",
    "Arrays  = c.class_for_name('java.util.Arrays')"
   ]
  },
  {
   "cell_type": "markdown",
   "metadata": {},
   "source": [
    "Now let's see the two type systems in action. To make integration a little smoother PJRmi will box certain Java objects to represent them as native Python ones."
   ]
  },
  {
   "cell_type": "code",
   "execution_count": null,
   "metadata": {
    "tags": []
   },
   "outputs": [],
   "source": [
    "ints           = tuple(range(10))\n",
    "int64s         = numpy.arange(10, dtype='int64')\n",
    "floats         = tuple(map(float, ints))\n",
    "float64s       = numpy.arange(10, dtype='float64')\n",
    "small_int      = 7\n",
    "big_int        = 12345678\n",
    "ints_list      = ArrayList(ints)\n",
    "int64s_list    = ArrayList(int64s)\n",
    "floats_list    = ArrayList(floats)\n",
    "float64s_list  = ArrayList(float64s)\n",
    "small_int_list = ArrayList((small_int,))\n",
    "big_int_list   = ArrayList((big_int,))"
   ]
  },
  {
   "cell_type": "markdown",
   "metadata": {},
   "source": [
    "Notice how PJRmi picked the appropriate ArrayList constructor here. That constructor is an overloaded method in Java. In this instance we ended up using the one which takes a `Collection`."
   ]
  },
  {
   "cell_type": "markdown",
   "metadata": {},
   "source": [
    "We'll see the type inference and boxing in action next. PJRmi has to make guesses about the types of things if it doesn't have much information. However, it will handle type conversion if it can."
   ]
  },
  {
   "cell_type": "code",
   "execution_count": null,
   "metadata": {
    "tags": []
   },
   "outputs": [],
   "source": [
    "(ints_list     [0], type(ints_list     [0]),\n",
    " int64s_list   [0], type(int64s_list   [0]),\n",
    " small_int_list[0], type(small_int_list[0]),\n",
    " big_int_list  [0], type(big_int_list  [0]))"
   ]
  },
  {
   "cell_type": "code",
   "execution_count": null,
   "metadata": {
    "tags": []
   },
   "outputs": [],
   "source": [
    "Byte.valueOf(small_int), type(Byte.valueOf(small_int))"
   ]
  },
  {
   "cell_type": "code",
   "execution_count": null,
   "metadata": {
    "tags": []
   },
   "outputs": [],
   "source": [
    "Integer.valueOf(small_int), type(Integer.valueOf(small_int))"
   ]
  },
  {
   "cell_type": "markdown",
   "metadata": {},
   "source": [
    "But, like Java, we'll get an exception if we attempt to turn a value into something which would cause overflow."
   ]
  },
  {
   "cell_type": "code",
   "execution_count": null,
   "metadata": {
    "tags": []
   },
   "outputs": [],
   "source": [
    "try:\n",
    "    Byte.valueOf(big_int)\n",
    "except Exception as e:\n",
    "    print(f'{type(e)}')\n",
    "    print(f'{e}')"
   ]
  },
  {
   "cell_type": "markdown",
   "metadata": {
    "execution": {
     "iopub.execute_input": "2020-09-18T01:18:24.896230Z",
     "iopub.status.busy": "2020-09-18T01:18:24.895946Z",
     "iopub.status.idle": "2020-09-18T01:18:24.905833Z",
     "shell.execute_reply": "2020-09-18T01:18:24.905132Z",
     "shell.execute_reply.started": "2020-09-18T01:18:24.896207Z"
    }
   },
   "source": [
    "We have similar boxing for Strings. These behave like Python strings (and are, in fact, a subclass of them)."
   ]
  },
  {
   "cell_type": "code",
   "execution_count": null,
   "metadata": {
    "tags": []
   },
   "outputs": [],
   "source": [
    "s = String.valueOf(\"hello world\")\n",
    "(s, type(s), s.split())"
   ]
  },
  {
   "cell_type": "markdown",
   "metadata": {},
   "source": [
    "All these types will be unboxed as their underlying Java objects when they are passed into Java methods. Here we use the \"identity hashcode\" to get at the underlying `Object.hashcode()` value, which is always the same for an object instance. The `Integer.hashCode()` value, here obtained by `hash()` is the identity function for the integer.\n"
   ]
  },
  {
   "cell_type": "code",
   "execution_count": null,
   "metadata": {
    "tags": []
   },
   "outputs": [],
   "source": [
    "i1 = Integer.valueOf(big_int)\n",
    "i2 = Integer.valueOf(big_int)\n",
    "(i1,\n",
    " i2,\n",
    " hash(i1),\n",
    " hash(i1),\n",
    " hash(i2),\n",
    " hash(i2),\n",
    " System.identityHashCode(i1), \n",
    " System.identityHashCode(i1), \n",
    " System.identityHashCode(i2), \n",
    " System.identityHashCode(i2))"
   ]
  },
  {
   "cell_type": "markdown",
   "metadata": {},
   "source": [
    "PJRmi will also attempt to turn the various Python containers into the desired Java ones. We've seen how we created new `ArrayList` instances in the above, using Python container objects, via the `ArrayList(Collection)` constructor. We can also use those Python containers as arrays."
   ]
  },
  {
   "cell_type": "code",
   "execution_count": null,
   "metadata": {
    "tags": []
   },
   "outputs": [],
   "source": [
    "Arrays.asList?"
   ]
  },
  {
   "cell_type": "code",
   "execution_count": null,
   "metadata": {
    "tags": []
   },
   "outputs": [],
   "source": [
    "arrays_list = Arrays.asList(int64s)\n",
    "(arrays_list, str(arrays_list))"
   ]
  },
  {
   "cell_type": "markdown",
   "metadata": {},
   "source": [
    "And, going in the other direction, we can use Java containers naturally in Python. This is similar to what we were doing with maps above."
   ]
  },
  {
   "cell_type": "code",
   "execution_count": null,
   "metadata": {
    "tags": []
   },
   "outputs": [],
   "source": [
    "tuple(arrays_list)"
   ]
  },
  {
   "cell_type": "markdown",
   "metadata": {},
   "source": [
    "And, since we're here, let's see function overloading in action. The `ArrayList.add()` method takes two forms: one is just the object to add, the other also has an insertion point."
   ]
  },
  {
   "cell_type": "code",
   "execution_count": null,
   "metadata": {
    "tags": []
   },
   "outputs": [],
   "source": [
    "ArrayList.add?"
   ]
  },
  {
   "cell_type": "code",
   "execution_count": null,
   "metadata": {
    "tags": []
   },
   "outputs": [],
   "source": [
    "str(int64s_list)"
   ]
  },
  {
   "cell_type": "code",
   "execution_count": null,
   "metadata": {
    "tags": []
   },
   "outputs": [],
   "source": [
    "int64s_list.add('At the end')"
   ]
  },
  {
   "cell_type": "code",
   "execution_count": null,
   "metadata": {
    "tags": []
   },
   "outputs": [],
   "source": [
    "int64s_list.add(0, 'At the start')"
   ]
  },
  {
   "cell_type": "code",
   "execution_count": null,
   "metadata": {
    "tags": []
   },
   "outputs": [],
   "source": [
    "str(int64s_list)"
   ]
  },
  {
   "cell_type": "markdown",
   "metadata": {},
   "source": [
    "Yipes! We can do that?! Well, yes.\n",
    "\n",
    "The `ArrayList` loses its type paramterization when the running JVM, owing to type erasure; generics are really just a compile-time construct. An `ArrayList` is just a container of `Object`s and, because of that, we can put anything in one!"
   ]
  },
  {
   "cell_type": "code",
   "execution_count": null,
   "metadata": {
    "tags": []
   },
   "outputs": [],
   "source": [
    "tuple(map(type, int64s_list))"
   ]
  },
  {
   "cell_type": "markdown",
   "metadata": {},
   "source": [
    "So, just like Python, you can have a Java container of mixed types. Just be careful what you then do with it since you'll wind up with runtime type exceptions if you aren't careful."
   ]
  },
  {
   "cell_type": "markdown",
   "metadata": {},
   "source": [
    "Related to this exceptions work pretty much as you would expect."
   ]
  },
  {
   "cell_type": "code",
   "execution_count": null,
   "metadata": {
    "tags": []
   },
   "outputs": [],
   "source": [
    "try:\n",
    "    print(\"ints_list[0] is %s\" % ints_list[0])\n",
    "    print(\"ints_list[1000] is %s\" % ints_list[1000])\n",
    "except Exception as e:\n",
    "    print(\"Something went wrong: %s\" % e)"
   ]
  },
  {
   "cell_type": "markdown",
   "metadata": {},
   "source": [
    "## Moving on from the basics\n",
    "\n",
    "### Lambdas"
   ]
  },
  {
   "cell_type": "markdown",
   "metadata": {},
   "source": [
    "Okay, now that we have that. We can also get fancy. Let's use a Python lambda on the Java side!"
   ]
  },
  {
   "cell_type": "code",
   "execution_count": null,
   "metadata": {
    "tags": []
   },
   "outputs": [],
   "source": [
    "map1.computeIfAbsent(10, lambda x: x + 1)"
   ]
  },
  {
   "cell_type": "code",
   "execution_count": null,
   "metadata": {
    "tags": []
   },
   "outputs": [],
   "source": [
    "str(map1)"
   ]
  },
  {
   "cell_type": "markdown",
   "metadata": {},
   "source": [
    "So, what's actually going on in the above? This is where the `num_workers` argument comes into play. When we tell the Java server to instantiate multiple workers it's a directive that means that we're going to be doing all our request handling in multiple threads on both the Java and Python sides. The `num_workers` value is the minimum size of the threadpool.\n",
    "\n",
    "Both Java and Python will have a work queue to handle the messages coming in from the other side. When such a message comes in the task is handed off to a worker thread to handle; additional worker threads are created if the current pool is currently exhausted, but more on this in a bit. This model is required since, if Java calls back into Python, the Python thread which initiated the call into Java will be blocked waiting for a reply. As such, a different thread needs to handle the request from Java to do something (like invoke the lambda). Since it's possible for that lambda to do anything, like calling back into Java, the Java server has to be ready for more messages; same for the Python thread.\n",
    "\n",
    "Here's a crazy example:"
   ]
  },
  {
   "cell_type": "code",
   "execution_count": null,
   "metadata": {
    "tags": []
   },
   "outputs": [],
   "source": [
    "# Heading into Java\n",
    "map1.computeIfAbsent(\n",
    "    100, \n",
    "    # Java calls back into Python\n",
    "    lambda x: \n",
    "        # And Python calls back-back into Java\n",
    "        map2.computeIfAbsent(\n",
    "            x // 2, \n",
    "            # And Java calls back-back into Python, which calls back-back-back into Java! Lummy!\n",
    "            lambda y: Integer.valueOf(str(y)) + 1\n",
    "        )\n",
    ")\n",
    "print(str(map1))\n",
    "print(str(map2))"
   ]
  },
  {
   "cell_type": "markdown",
   "metadata": {},
   "source": [
    "Next on this topic, you can also implement Java interfaces in Python. This is done using subclasses of the `JavaProxy` interface which just have to be duck-typed to look like what the Java interfaces define."
   ]
  },
  {
   "cell_type": "code",
   "execution_count": null,
   "metadata": {
    "tags": []
   },
   "outputs": [],
   "source": [
    "class PythonRunnable(pjrmi.JavaProxyBase):\n",
    "    \"\"\"A class which looks like a Java Runnable\"\"\"\n",
    "    def run(self):\n",
    "        print(\"I ran!\")\n",
    "runnable = PythonRunnable()\n",
    "runnable.run()"
   ]
  },
  {
   "cell_type": "markdown",
   "metadata": {},
   "source": [
    "Let's use this to spawn a Java thread, which will itself call back into our Python client."
   ]
  },
  {
   "cell_type": "code",
   "execution_count": null,
   "metadata": {
    "tags": []
   },
   "outputs": [],
   "source": [
    "print(Thread.getClass())\n",
    "thread = Thread(runnable)\n",
    "thread.start()"
   ]
  },
  {
   "cell_type": "markdown",
   "metadata": {
    "tags": []
   },
   "source": [
    "### Class and source injection\n",
    "\n",
    "Since the JVM exposes methods for loading classes and compiling code on the fly we can inject new code into a running Java application. Here's a quick example which includes some things which we'll use later on too."
   ]
  },
  {
   "cell_type": "code",
   "execution_count": null,
   "metadata": {
    "tags": []
   },
   "outputs": [],
   "source": [
    "class_name = \"Injected\"\n",
    "source     = \"\"\"\n",
    "import java.util.ArrayList;\n",
    "import java.util.Collection;\n",
    "import java.util.function.Function;\n",
    "\n",
    "public class Injected {\n",
    "    public static int addOne(int i) {\n",
    "        return i+1;\n",
    "   }\n",
    "\n",
    "   public static double sum(final double[] array)\n",
    "   {\n",
    "       double result = 0;\n",
    "       for (double value : array) {\n",
    "           result += value;\n",
    "       }\n",
    "       return result;\n",
    "   }\n",
    "\n",
    "   public static float sum(final float[] array)\n",
    "   {\n",
    "       float result = 0;\n",
    "       for (float value : array) {\n",
    "           result += value;\n",
    "       }\n",
    "       return result;\n",
    "   }\n",
    "\n",
    "   public static <T,U> Collection<U> map(final Collection<T> c,\n",
    "                                         final Function<T,U> f)\n",
    "   {\n",
    "       final Collection<U> result = new ArrayList<U>();\n",
    "       for (T element : c) {\n",
    "           result.add(f.apply(element));\n",
    "       }\n",
    "       return result;\n",
    "   }\n",
    "}\n",
    "\"\"\"\n",
    "Injected = c.inject_source(class_name, source)\n",
    "Injected.addOne(1)"
   ]
  },
  {
   "cell_type": "markdown",
   "metadata": {},
   "source": [
    "### Method \"unbinding\"\n",
    "\n",
    "We can also \"unbind\" methods from Java objects or classes, as we would do in Java itself. This gives you back a Java version of the method, as opposed to its Python shim. If a method is overloaded then we need to tell PJRmi which version of the method we want, so that it grabs the correct one.\n",
    "\n",
    "There are different forms of syntax for capturing a method, but we'll use the `[]` one in the below example."
   ]
  },
  {
   "cell_type": "code",
   "execution_count": null,
   "metadata": {
    "tags": []
   },
   "outputs": [],
   "source": [
    "jint = c.class_for_name('int')\n",
    "method = Integer.toString[jint]"
   ]
  },
  {
   "cell_type": "code",
   "execution_count": null,
   "metadata": {
    "tags": []
   },
   "outputs": [],
   "source": [
    "method(3141)"
   ]
  },
  {
   "cell_type": "code",
   "execution_count": null,
   "metadata": {
    "tags": []
   },
   "outputs": [],
   "source": [
    "map1.computeIfAbsent(12345678, method)\n",
    "map1.computeIfAbsent('hello', String.hashCode[None])\n",
    "print(map1)"
   ]
  },
  {
   "cell_type": "markdown",
   "metadata": {},
   "source": [
    "And now, we can pass in the Java method for use as a Java lambda, meaning that all the execution happens on the Java side."
   ]
  },
  {
   "cell_type": "code",
   "execution_count": null,
   "metadata": {
    "tags": []
   },
   "outputs": [],
   "source": [
    "StringValueOf = String.valueOf['java.lang.Object']\n",
    "mapped = Injected.map(arrays_list, StringValueOf)\n",
    "print(mapped)\n",
    "print(tuple(map(type, mapped)))"
   ]
  },
  {
   "cell_type": "markdown",
   "metadata": {},
   "source": [
    "Using unbinding can also make calls a little faster for heavily overloaded Java methods, since the Python side doesn't have to perform the disambiguation itself."
   ]
  },
  {
   "cell_type": "markdown",
   "metadata": {},
   "source": [
    "## Fun With `/dev/shm`\n",
    "\n",
    "### Argument passing\n",
    "If we have a Python process driving a Java child on the same machine then we can use `/dev/shm` for passing certain \"large\" arguments to the Java process. This is useful when you have big Numpy arrays which would otherwise need to be marshalled as a their binary representation by Python and unmarshalled into an array on the Java side. We'll need the JNI extension to be loaded for this to work since it uses C++ magic behind the scenes. You'll also notice that `Injected_.sum()` is an overloaded method and so we use the unbinding directive to pick the one which we want to use."
   ]
  },
  {
   "cell_type": "code",
   "execution_count": null,
   "metadata": {
    "tags": []
   },
   "outputs": [],
   "source": [
    "array = numpy.arange(1.0e6, dtype=numpy.float64)\n",
    "iters = 100\n",
    "print('*' * 40)\n",
    "for use_shm_arg_passing in (True, False):\n",
    "    with pjrmi.connect_to_child_jvm(stdout=None,\n",
    "                                    stderr=None,\n",
    "                                    use_shm_arg_passing=use_shm_arg_passing) as jvm:\n",
    "        Injected_ = jvm.inject_source(class_name, source)\n",
    "        sum_ = Injected_.sum['[D']\n",
    "        start = time.time()\n",
    "        for i in range(100):\n",
    "            sum_(array)\n",
    "        end = time.time()\n",
    "        took_ms = int((end - start) / iters * 1000)\n",
    "        print(f'use_shm_arg_passing={use_shm_arg_passing} took={took_ms}ms/iter')\n",
    "print('*' * 40)"
   ]
  },
  {
   "cell_type": "markdown",
   "metadata": {},
   "source": [
    "### Doing it all by hand\n",
    "\n",
    "We can also share memory between a Python numpy array and a, say, Java `DoubleBuffer` using memory mapping.\n",
    "\n",
    "There's no special PJRmi magic here; we're just writing plain Python code and Java code."
   ]
  },
  {
   "cell_type": "code",
   "execution_count": null,
   "metadata": {
    "tags": []
   },
   "outputs": [],
   "source": [
    "import numpy\n",
    "\n",
    "ByteOrder          = c.class_for_name('java.nio.ByteOrder')\n",
    "FileChannel        = c.class_for_name('java.nio.channels.FileChannel')\n",
    "StandardOpenOption = c.class_for_name('java.nio.file.StandardOpenOption')\n",
    "Path               = c.class_for_name('java.nio.file.Path')\n",
    "\n",
    "FILENAME = '/dev/shm/mmap.srp'\n",
    "SIZE     = 1024"
   ]
  },
  {
   "cell_type": "markdown",
   "metadata": {},
   "source": [
    "Create the Python numpy array, backed by a file."
   ]
  },
  {
   "cell_type": "code",
   "execution_count": null,
   "metadata": {
    "tags": []
   },
   "outputs": [],
   "source": [
    "array = numpy.memmap(FILENAME, dtype=numpy.float64, mode='w+', shape=(SIZE,), order='C')"
   ]
  },
  {
   "cell_type": "markdown",
   "metadata": {},
   "source": [
    "Create the Java version. This is a little more involved (and just gives us back a buffer)."
   ]
  },
  {
   "cell_type": "code",
   "execution_count": null,
   "metadata": {
    "tags": []
   },
   "outputs": [],
   "source": [
    "path    = Path.of(FILENAME, [])\n",
    "channel = FileChannel.open(path, [StandardOpenOption.READ, StandardOpenOption.WRITE])\n",
    "buffer  = channel.map(FileChannel.MapMode.READ_WRITE, 0, SIZE * Double.BYTES)\n",
    "buffer.order(ByteOrder.nativeOrder())\n",
    "doubles = buffer.asDoubleBuffer()"
   ]
  },
  {
   "cell_type": "markdown",
   "metadata": {},
   "source": [
    "So we now have this:"
   ]
  },
  {
   "cell_type": "code",
   "execution_count": null,
   "metadata": {
    "tags": []
   },
   "outputs": [],
   "source": [
    "print(array[:15])\n",
    "print([doubles.get(i) for i in range(15)])"
   ]
  },
  {
   "cell_type": "markdown",
   "metadata": {},
   "source": [
    "And now just by changing the Python version we see the update reflected on both sides, as you would expect:"
   ]
  },
  {
   "cell_type": "code",
   "execution_count": null,
   "metadata": {
    "tags": []
   },
   "outputs": [],
   "source": [
    "array[:10] = range(10)\n",
    "print(array[:15])\n",
    "print([doubles.get(i) for i in range(15)])"
   ]
  },
  {
   "cell_type": "markdown",
   "metadata": {
    "execution": {
     "iopub.execute_input": "2022-08-16T23:23:07.824421Z",
     "iopub.status.busy": "2022-08-16T23:23:07.824133Z",
     "iopub.status.idle": "2022-08-16T23:23:07.832969Z",
     "shell.execute_reply": "2022-08-16T23:23:07.832409Z",
     "shell.execute_reply.started": "2022-08-16T23:23:07.824400Z"
    },
    "tags": []
   },
   "source": [
    "Or just changing the Java version also updates the Python version:"
   ]
  },
  {
   "cell_type": "code",
   "execution_count": null,
   "metadata": {
    "tags": []
   },
   "outputs": [],
   "source": [
    "for i in range(10):\n",
    "    doubles.put(i * 10.0)\n",
    "print(array[:15])\n",
    "print([doubles.get(i) for i in range(15)])"
   ]
  },
  {
   "cell_type": "markdown",
   "metadata": {},
   "source": [
    "Tidy up:"
   ]
  },
  {
   "cell_type": "code",
   "execution_count": null,
   "metadata": {
    "tags": []
   },
   "outputs": [],
   "source": [
    "os.unlink(FILENAME)"
   ]
  },
  {
   "cell_type": "markdown",
   "metadata": {},
   "source": [
    "## Other examples of this and that\n",
    "\n",
    "We can also look to do a copy-by-value operation on the objects on the Java side. This only works if the objects are ones which are well known Python ones (like primitives and basic container objects)."
   ]
  },
  {
   "cell_type": "code",
   "execution_count": null,
   "metadata": {
    "tags": []
   },
   "outputs": [],
   "source": [
    "map1_copy = c.value_of(map1)\n",
    "(type(map1_copy), str(map1_copy))"
   ]
  },
  {
   "cell_type": "markdown",
   "metadata": {},
   "source": [
    "And, of course, one can always create a standalone script. We'll have a simple (contrived) example here. In this we mix Java and Python syntax pretty freely. A lot of the time you can only tell what we're using because of the difference in naming conventions."
   ]
  },
  {
   "cell_type": "code",
   "execution_count": null,
   "metadata": {
    "tags": []
   },
   "outputs": [],
   "source": [
    "# We'll use a 'with' context so that the JVM shuts down when we're done\n",
    "with pjrmi.connect_to_child_jvm(stdout=None, stderr=None, application_args=('num_workers=2',)) as jvm:\n",
    "    # Grab the Java classes, using a bit of syntactic sugar\n",
    "    Arrays  = jvm.javaclass.java.util.Arrays\n",
    "    HashMap = jvm.javaclass.java.util.HashMap\n",
    "\n",
    "    # Now turn a number into our count of apples\n",
    "    def as_apples(count):\n",
    "        if count <= 0:\n",
    "            return \"I have no apples\"\n",
    "        elif count == 1:\n",
    "            return \"I have an apple\"\n",
    "        else:\n",
    "            return \"I have %d apples\" % count\n",
    "\n",
    "    # Set up the variables\n",
    "    numbers = Arrays.asList(range(0, 5))\n",
    "    apples  = HashMap()\n",
    "    for number in numbers:\n",
    "        apples.computeIfAbsent(number, as_apples)\n",
    "    sum_sqs = numbers.stream().mapToInt(lambda x : numpy.int32(x*x)).sum()\n",
    "    \n",
    "    # Print them out!\n",
    "    print(\"Numbers: %s\" % numbers)\n",
    "    print(\"Apples:  %s\" % apples)\n",
    "    print(\"Sum x^2: %d\" % sum_sqs)"
   ]
  },
  {
   "cell_type": "markdown",
   "metadata": {},
   "source": [
    "## Wrapping up...\n",
    "\n",
    "This was just a very quick introduction to some of the things which we can do in PJRmi. The general rule of thumb is that: if you expect it to work, then it probably should. "
   ]
  },
  {
   "cell_type": "code",
   "execution_count": null,
   "metadata": {},
   "outputs": [],
   "source": [
    "# Be kind, rewind^Wclose\n",
    "c.close()"
   ]
  },
  {
   "cell_type": "markdown",
   "metadata": {},
   "source": [
    "T- T- That's all folks!"
   ]
  }
 ],
 "metadata": {
  "kernelspec": {
   "display_name": "Python 3",
   "language": "python",
   "name": "python3"
  },
  "language_info": {
   "codemirror_mode": {
    "name": "ipython",
    "version": 3
   },
   "file_extension": ".py",
   "mimetype": "text/x-python",
   "name": "python",
   "nbconvert_exporter": "python",
   "pygments_lexer": "ipython3",
   "version": "3.10.4"
  },
  "widgets": {
   "application/vnd.jupyter.widget-state+json": {
    "state": {},
    "version_major": 2,
    "version_minor": 0
   }
  }
 },
 "nbformat": 4,
 "nbformat_minor": 4
}
